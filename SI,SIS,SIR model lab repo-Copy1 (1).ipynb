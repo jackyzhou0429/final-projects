{
 "cells": [
  {
   "cell_type": "code",
   "execution_count": 98,
   "id": "fcf9b6b2",
   "metadata": {
    "scrolled": true
   },
   "outputs": [],
   "source": [
    "from scipy.integrate import odeint  # Importing the scipy.integrate module\n",
    "import numpy as np  # Importing numpy packages\n",
    "import matplotlib.pyplot as plt  # Importing the matplotlib package"
   ]
  },
  {
   "cell_type": "code",
   "execution_count": 99,
   "id": "102c7e9c",
   "metadata": {},
   "outputs": [],
   "source": [
    "def dy_dt(y, t, lamda, mu):\n",
    "    dy_dt = lamda*y*(1-y)\n",
    "    return dy_dt"
   ]
  },
  {
   "cell_type": "markdown",
   "id": "8de0e54b",
   "metadata": {},
   "source": [
    "Define the derivative function f(i,t)=λi(1-i)"
   ]
  },
  {
   "cell_type": "code",
   "execution_count": 100,
   "id": "0b169257",
   "metadata": {},
   "outputs": [],
   "source": [
    "number = 1e6  # Total number of people\n",
    "lamda  = 0.2  # Daily contact rate\n",
    "mu1    = 0.2/0.5  # Daily cure rate\n",
    "y0     = i0 = 1e-6  # Initial value of the proportion of people with the disease\n",
    "tEnd   = 200  # Predicted date length\n",
    "t      = np.arange(0.0,tEnd,1)  # (start,stop,step)"
   ]
  },
  {
   "cell_type": "markdown",
   "id": "dc35aec6",
   "metadata": {},
   "source": [
    "Setting model parameters"
   ]
  },
  {
   "cell_type": "code",
   "execution_count": 101,
   "id": "80d5c52b",
   "metadata": {},
   "outputs": [],
   "source": [
    "ySI = odeint(dy_dt, y0, t, args=(lamda,mu1)) "
   ]
  },
  {
   "cell_type": "markdown",
   "id": "44460d32",
   "metadata": {},
   "source": [
    "Call odeint() to find i ii in the defined interval[t0.t] of the numerical solution."
   ]
  },
  {
   "cell_type": "code",
   "execution_count": 102,
   "id": "9ab17377",
   "metadata": {},
   "outputs": [
    {
     "data": {
      "image/png": "[encoded data removed]",
      "text/plain": [
       "<Figure size 432x288 with 1 Axes>"
      ]
     },
     "metadata": {
      "needs_background": "light"
     },
     "output_type": "display_data"
    }
   ],
   "source": [
    "# Drawing\n",
    "\n",
    "plt.title(\"SI model\")\n",
    "plt.xlabel('t/days')\n",
    "plt.axis([0, tEnd, -0.1, 1.1])\n",
    "plt.plot(t, ySI, '-g', label='si')\n",
    "plt.legend(loc='best')\n",
    "plt.show()"
   ]
  },
  {
   "cell_type": "code",
   "execution_count": 103,
   "id": "9a9aae31",
   "metadata": {
    "scrolled": true
   },
   "outputs": [],
   "source": [
    "def dy_dt(y, t, lamda, mu):  # SIS model, derivative function\n",
    "    dy_dt = lamda*y*(1-y) - mu*y  # di/dt = lamda*i*(1-i)-mu*i\n",
    "    return dy_dt"
   ]
  },
  {
   "cell_type": "markdown",
   "id": "99451deb",
   "metadata": {},
   "source": [
    "Define the derivative function f(i,t)=λi(1-i)-μi"
   ]
  },
  {
   "cell_type": "code",
   "execution_count": 104,
   "id": "cb40b778",
   "metadata": {},
   "outputs": [],
   "source": [
    "number = 1e6  # Total number of people\n",
    "lamda  = 0.2  # Daily contact rate\n",
    "sigma  = 2.5  # Daily cure rate\n",
    "mu     = lamda/sigma  # Initial value of the proportion of people with the disease\n",
    "y0     = i0 = 1e-5  # Initial value of the proportion of people with the disease\n",
    "tEnd   = 200  # Predicted date length\n",
    "t      = np.arange(0.0,tEnd,1)  # (start,stop,step)"
   ]
  },
  {
   "cell_type": "markdown",
   "id": "249c2e06",
   "metadata": {},
   "source": [
    "Setting model parameters"
   ]
  },
  {
   "cell_type": "code",
   "execution_count": 105,
   "id": "7bd68633",
   "metadata": {},
   "outputs": [],
   "source": [
    "ySI = odeint(dy_dt, y0, t, args=(lamda,0))  # SI model\n",
    "ySIS = odeint(dy_dt, y0, t, args=(lamda,mu))  # SIS model"
   ]
  },
  {
   "cell_type": "markdown",
   "id": "82c6e824",
   "metadata": {},
   "source": [
    "Call odeint() to find i ii in the defined intervalp [t0,t] of the numerical solution."
   ]
  },
  {
   "cell_type": "code",
   "execution_count": 106,
   "id": "3ffe2ba0",
   "metadata": {},
   "outputs": [
    {
     "data": {
      "image/png": "[encoded data removed]",
      "text/plain": [
       "<Figure size 432x288 with 1 Axes>"
      ]
     },
     "metadata": {
      "needs_background": "light"
     },
     "output_type": "display_data"
    }
   ],
   "source": [
    "# Darwing\n",
    "\n",
    "plt.title(\"Comparison between SI and SIS\")\n",
    "plt.xlabel('t/days')\n",
    "plt.axis([0, tEnd, -0.1, 1.1])\n",
    "plt.plot(t, ySI, '-g', label='ySI')\n",
    "plt.plot(t, ySIS, '-r', label='ySIS')\n",
    "plt.legend(loc='best')  \n",
    "plt.show()"
   ]
  },
  {
   "cell_type": "code",
   "execution_count": 107,
   "id": "0c0f1331",
   "metadata": {},
   "outputs": [],
   "source": [
    "def dySIS(y,t,lamda,mu):  #SI/SIS models, derivative functions\n",
    "    dy_dt = lamda*y*(1-y) -mu*y #di/dt = lamda*i*(1-i)-mu*i\n",
    "    return dy_dt"
   ]
  },
  {
   "cell_type": "code",
   "execution_count": null,
   "id": "b9cb8d13",
   "metadata": {},
   "outputs": [],
   "source": [
    "def dySIR(y,t,lamda,mu):  # SIR model, derivative function\n",
    "    i,s = y\n",
    "    di_dt = lamda*s*i - mu*i # di/dt = lamda*s*i-mu*i\n",
    "    ds_dt = -lamda*s*i\n",
    "    return np.array([di_dt,ds_dt])"
   ]
  },
  {
   "cell_type": "markdown",
   "id": "6c4945cd",
   "metadata": {},
   "source": [
    "The SIR model is a binary ordinary differential equation where the return value y is a two-dimensional array of len(t)*2"
   ]
  },
  {
   "cell_type": "code",
   "execution_count": 108,
   "id": "85354b9e",
   "metadata": {},
   "outputs": [],
   "source": [
    "number = 1e6 #total population\n",
    "lamda  = 0.2 #transmission rate  \n",
    "sigma  = 2.5 #susceptible persons effectively exposed\n",
    "mu     = lamda/sigma #Daily cure rate\n",
    "tEND   = 200 #Predicted date length\n",
    "t      = np.arange(0.0,tEND,1) # Gives the value of y at each moment in the time series t.\n",
    "i0     = 1e-5 #Initial value of patient ratio\n",
    "s0     = 1-i0 #Initial value of the vulnerability ratio\n",
    "y0     = (i0,s0) #Initial values of differential equations"
   ]
  },
  {
   "cell_type": "markdown",
   "id": "b7dd0cb3",
   "metadata": {},
   "source": [
    "Setting model parameters"
   ]
  },
  {
   "cell_type": "code",
   "execution_count": 109,
   "id": "141d833d",
   "metadata": {},
   "outputs": [],
   "source": [
    "ySI  = odeint(dySIS, i0, t,args=(lamda,0))\n",
    "ySIS = odeint(dySIS, i0, t,args=(lamda,mu))\n",
    "ySIR = odeint(dySIR, y0, t,args=(lamda,mu))"
   ]
  },
  {
   "cell_type": "markdown",
   "id": "0fe46eaf",
   "metadata": {},
   "source": [
    "scipy.integrate.odeint()is a specific method for solving differential equations, by numerically integrating a system of ordinary differential equations."
   ]
  },
  {
   "cell_type": "code",
   "execution_count": 110,
   "id": "7639d08e",
   "metadata": {},
   "outputs": [
    {
     "data": {
      "image/png": "[encoded data removed]",
      "text/plain": [
       "<Figure size 432x288 with 1 Axes>"
      ]
     },
     "metadata": {
      "needs_background": "light"
     },
     "output_type": "display_data"
    }
   ],
   "source": [
    "#Drawing\n",
    "      \n",
    "plt.title(\"Comparing the data models of SI, SIS and SIR\")\n",
    "plt.xlabel('t/days')\n",
    "plt.axis([0,tEND,-0.1,1.1])\n",
    "plt.plot(t,ySI,'-g', label='i(t)-SI')\n",
    "plt.plot(t,ySIS, '--r', label='i(t)-SIS')\n",
    "plt.plot(t,ySIR[:,1],'-b', label='s(t)-SIR')\n",
    "plt.plot(t,1-ySIR[:,0]-ySIR[:,1], 'm', label='r(t)-SIR')\n",
    "plt.legend(loc='best')\n",
    "plt.show()"
   ]
  }
 ],
 "metadata": {
  "kernelspec": {
   "display_name": "Python 3 (ipykernel)",
   "language": "python",
   "name": "python3"
  },
  "language_info": {
   "codemirror_mode": {
    "name": "ipython",
    "version": 3
   },
   "file_extension": ".py",
   "mimetype": "text/x-python",
   "name": "python",
   "nbconvert_exporter": "python",
   "pygments_lexer": "ipython3",
   "version": "3.9.7"
  }
 },
 "nbformat": 4,
 "nbformat_minor": 5
}
